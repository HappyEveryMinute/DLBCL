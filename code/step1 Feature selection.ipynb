{
 "cells": [
  {
   "cell_type": "code",
   "execution_count": null,
   "metadata": {},
   "outputs": [],
   "source": [
    "import os\n",
    "import pandas as pd\n",
    "from autogluon.tabular import TabularPredictor "
   ]
  },
  {
   "cell_type": "code",
   "execution_count": 4,
   "metadata": {},
   "outputs": [],
   "source": [
    "presets = ['best_quality']\n",
    "save_path = \"./save/label1\"\n",
    "predictor = TabularPredictor(label=label,\n",
    "                             path=save_path,\n",
    "                             eval_metric='roc_auc')"
   ]
  },
  {
   "cell_type": "code",
   "execution_count": null,
   "metadata": {},
   "outputs": [],
   "source": [
    "\n",
    "\n",
    "hyperparameters = {\n",
    "                    'GBM': [\n",
    "                         {'extra_trees': True, 'ag_args': {'name_suffix': 'XT'}},\n",
    "                         # {},\n",
    "                         # 'GBMLarge',\n",
    "                    ],\n",
    "\n",
    "                    'CAT': {},\n",
    "\n",
    "                    'XGB': {},\n",
    "\n",
    "                    # 'FASTAI': {},\n",
    "\n",
    "                    'RF': [\n",
    "                         {'criterion': 'gini', 'ag_args': {'name_suffix': 'Gini', 'problem_types': ['binary', 'multiclass']}},\n",
    "                         # {'criterion': 'entropy', 'ag_args': {'name_suffix': 'Entr', 'problem_types': ['binary', 'multiclass']}},\n",
    "                         # {'criterion': 'squared_error', 'ag_args': {'name_suffix': 'MSE', 'problem_types': ['regression']}},\n",
    "                    ],\n",
    "\n",
    "                    'XT': [\n",
    "                          {'criterion': 'gini', 'ag_args': {'name_suffix': 'Gini', 'problem_types': ['binary', 'multiclass']}},\n",
    "                    #     {'criterion': 'entropy', 'ag_args': {'name_suffix': 'Entr', 'problem_types': ['binary', 'multiclass']}},\n",
    "                    #     {'criterion': 'squared_error', 'ag_args': {'name_suffix': 'MSE', 'problem_types': ['regression']}},\n",
    "                    ],\n",
    "                    \n",
    "                    # 'KNN': [\n",
    "                    #      {'weights': 'uniform', 'ag_args': {'name_suffix': 'Unif'}},\n",
    "                    #     {'weights': 'distance', 'ag_args': {'name_suffix': 'Dist'}},\n",
    "                    # ],\n",
    "                }\n",
    "\n",
    "# Ten-fold cross validation, multi-layer stacking\n",
    "predictor.fit(train_data=train_data,\n",
    "             #ag_args_fit={'num_gpus': 1}, \n",
    "             # tuning_data=val_data,\n",
    "             time_limit=3000,\n",
    "             presets=presets,\n",
    "             # auto_stack=True,\n",
    "             num_bag_sets=1,\n",
    "             # use_bag_holdout=True,\n",
    "             # holdout_frac = 0.3,\n",
    "             num_stack_levels=1,\n",
    "             num_bag_folds=10,\n",
    "             hyperparameters=hyperparameters,\n",
    "             )\n",
    "\n",
    "\n",
    "# Test validation cohort\n",
    "result = predictor.leaderboard(val_data, silent=True)\n",
    "result.to_csv(os.path.join(save_path, \"result.csv\"), index=False)\n",
    "result"
   ]
  },
  {
   "cell_type": "code",
   "execution_count": null,
   "metadata": {},
   "outputs": [],
   "source": [
    "# Gain feature weighting and ranking\n",
    "feature_importance = predictor.feature_importance(data=train_data, model='WeightedEnsemble_L2')"
   ]
  }
 ],
 "metadata": {
  "kernelspec": {
   "display_name": "autogluon_070_cpu",
   "language": "python",
   "name": "python3"
  },
  "language_info": {
   "codemirror_mode": {
    "name": "ipython",
    "version": 3
   },
   "file_extension": ".py",
   "mimetype": "text/x-python",
   "name": "python",
   "nbconvert_exporter": "python",
   "pygments_lexer": "ipython3",
   "version": "3.8.0"
  },
  "orig_nbformat": 4
 },
 "nbformat": 4,
 "nbformat_minor": 2
}
