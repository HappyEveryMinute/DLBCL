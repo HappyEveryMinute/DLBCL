{
 "cells": [
  {
   "attachments": {},
   "cell_type": "markdown",
   "metadata": {},
   "source": [
    "# resample methods"
   ]
  },
  {
   "cell_type": "code",
   "execution_count": 2,
   "metadata": {},
   "outputs": [],
   "source": [
    "from tabulate import tabulate\n",
    "from collections import Counter\n",
    "\n",
    "from imblearn.over_sampling import SMOTE\n",
    "\n",
    "# Resample - SMOTE\n",
    "def smote(X_train, y_train):\n",
    "    print(\"Start SMOTE\")\n",
    "    smote = SMOTE(sampling_strategy=0.5,  \n",
    "                  random_state=42,\n",
    "                  k_neighbors=5  \n",
    "                    )\n",
    "    X_train_resampled, y_train_resampled = smote.fit_resample(X_train, y_train)\n",
    "\n",
    "    table = [[' ', 'before', 'after'],\n",
    "                ['X_train', X_train.shape, X_train_resampled.shape],\n",
    "                ['y_trian_0', Counter(y_train)[0], Counter(y_train_resampled)[0]],\n",
    "                ['y_trian_1', Counter(y_train)[1], Counter(y_train_resampled)[1]]]\n",
    "    print(tabulate(table, tablefmt='grid'))\n",
    "    return X_train_resampled, y_train_resampled\n"
   ]
  },
  {
   "cell_type": "code",
   "execution_count": null,
   "metadata": {},
   "outputs": [],
   "source": []
  }
 ],
 "metadata": {
  "kernelspec": {
   "display_name": "sklearn",
   "language": "python",
   "name": "python3"
  },
  "language_info": {
   "codemirror_mode": {
    "name": "ipython",
    "version": 3
   },
   "file_extension": ".py",
   "mimetype": "text/x-python",
   "name": "python",
   "nbconvert_exporter": "python",
   "pygments_lexer": "ipython3",
   "version": "3.8.0"
  },
  "orig_nbformat": 4
 },
 "nbformat": 4,
 "nbformat_minor": 2
}
